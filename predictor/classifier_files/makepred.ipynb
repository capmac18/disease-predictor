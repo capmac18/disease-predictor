{
 "cells": [
  {
   "cell_type": "code",
   "execution_count": 1,
   "id": "inappropriate-thought",
   "metadata": {},
   "outputs": [],
   "source": [
    "from pickle import load"
   ]
  },
  {
   "cell_type": "code",
   "execution_count": 10,
   "id": "packed-thong",
   "metadata": {},
   "outputs": [],
   "source": [
    "def predict(X_test, n=5):\n",
    "    clf = load(open('classifier.pkl', 'rb'))\n",
    "    le = load(open('labelencoder.pkl', 'rb'))\n",
    "    vectorizer = load(open('countvectorizer', 'rb'))\n",
    "    X_test = vectorizer.transform(X_test)\n",
    "    X_test = X_test.toarray()\n",
    "    \n",
    "    Y_pred = clf.predict_proba(X_test)\n",
    "    \n",
    "    ans = []\n",
    "    for i in range(len(Y_pred)):\n",
    "        ls = Y_pred[i]\n",
    "        zipls = zip(ls, list(range(len(Y_pred[0]))))\n",
    "        zipls = list(sorted(zipls, reverse=True))\n",
    "        #print(i , len(ls),\" : \")\n",
    "        for j in range(n):\n",
    "            prob, label = zipls[j]\n",
    "            #print(le.inverse_transform([label])[0], f\"( {prob*100:.5f} % )\", end='      ')\n",
    "            ans.append([le.inverse_transform([label])[0], f\"{prob*100:.5f} %\"])\n",
    "        #print('\\n')\n",
    "    return ans"
   ]
  },
  {
   "cell_type": "code",
   "execution_count": 13,
   "id": "cloudy-rough",
   "metadata": {},
   "outputs": [
    {
     "data": {
      "text/plain": [
       "[['Common Cold', '66.77025 %'],\n",
       " ['Hypertension ', '17.17649 %'],\n",
       " ['Malaria', '5.53449 %']]"
      ]
     },
     "execution_count": 13,
     "metadata": {},
     "output_type": "execute_result"
    }
   ],
   "source": [
    "predict(['chest_pain high_fever headache'], 3)"
   ]
  }
 ],
 "metadata": {
  "kernelspec": {
   "display_name": "Python 3",
   "language": "python",
   "name": "python3"
  },
  "language_info": {
   "codemirror_mode": {
    "name": "ipython",
    "version": 3
   },
   "file_extension": ".py",
   "mimetype": "text/x-python",
   "name": "python",
   "nbconvert_exporter": "python",
   "pygments_lexer": "ipython3",
   "version": "3.8.5"
  }
 },
 "nbformat": 4,
 "nbformat_minor": 5
}
